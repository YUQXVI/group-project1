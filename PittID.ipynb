{
 "cells": [
  {
   "cell_type": "code",
   "execution_count": 3,
   "metadata": {},
   "outputs": [
    {
     "name": "stdin",
     "output_type": "stream",
     "text": [
      "What's your full name? Yuanheng Qu\n",
      "What's the number in your Pitt ID? 15\n"
     ]
    },
    {
     "name": "stdout",
     "output_type": "stream",
     "text": [
      "Your Pitt ID is YuQ15\n"
     ]
    }
   ],
   "source": [
    "name = input(\"What's your full name? Just first name and last name.\")\n",
    "num = input(\"What's the number in your Pitt ID?\")\n",
    "print (\"Your Pitt ID is \" + name[0:2] + name[name.index(\" \")+1:name.index(\" \")+2] + num)"
   ]
  }
 ],
 "metadata": {
  "kernelspec": {
   "display_name": "Python 3.7",
   "language": "python",
   "name": "python3"
  },
  "language_info": {
   "codemirror_mode": {
    "name": "ipython",
    "version": 3
   },
   "file_extension": ".py",
   "mimetype": "text/x-python",
   "name": "python",
   "nbconvert_exporter": "python",
   "pygments_lexer": "ipython3",
   "version": "3.7.0"
  }
 },
 "nbformat": 4,
 "nbformat_minor": 2
}
