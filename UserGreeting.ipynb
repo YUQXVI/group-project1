{
 "cells": [
  {
   "cell_type": "code",
   "execution_count": 2,
   "metadata": {},
   "outputs": [
    {
     "name": "stdin",
     "output_type": "stream",
     "text": [
      "What's your full name? Just first name and last name. Yuanheng Qu\n",
      "what year were you born 2001\n",
      "What's the number in your Pitt ID? 15\n"
     ]
    },
    {
     "name": "stdout",
     "output_type": "stream",
     "text": [
      "Hello! YuQ15, you were born 18years ago\n"
     ]
    }
   ],
   "source": [
    "name = input(\"What's your full name? Just first name and last name.\")\n",
    "birthYr = int(input(\"what year were you born\"))\n",
    "yearsSince = str(2019 - birthYr)\n",
    "num = input(\"What's the number in your Pitt ID?\")\n",
    "print (\"Hello! \" + name[0:2] + name[name.index(\" \")+1:name.index(\" \")+2] + num + \", you were born \" + yearsSince + \" years ago\")"
   ]
  }
 ],
 "metadata": {
  "kernelspec": {
   "display_name": "Python 3.7",
   "language": "python",
   "name": "python3"
  },
  "language_info": {
   "codemirror_mode": {
    "name": "ipython",
    "version": 3
   },
   "file_extension": ".py",
   "mimetype": "text/x-python",
   "name": "python",
   "nbconvert_exporter": "python",
   "pygments_lexer": "ipython3",
   "version": "3.7.0"
  }
 },
 "nbformat": 4,
 "nbformat_minor": 2
}
